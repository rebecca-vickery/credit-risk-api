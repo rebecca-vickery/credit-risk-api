{
 "cells": [
  {
   "cell_type": "code",
   "execution_count": 198,
   "id": "handled-robinson",
   "metadata": {},
   "outputs": [],
   "source": [
    "import numpy as np\n",
    "import pandas as pd\n",
    "\n",
    "import matplotlib.pyplot as plt\n",
    "\n",
    "pd.set_option('display.max_columns', None) \n",
    "pd.set_option('display.float_format', lambda x: '%.3f' % x)\n",
    "%matplotlib inline"
   ]
  },
  {
   "cell_type": "code",
   "execution_count": 199,
   "id": "coupled-genre",
   "metadata": {},
   "outputs": [],
   "source": [
    "from sklearn.datasets import fetch_openml "
   ]
  },
  {
   "cell_type": "code",
   "execution_count": 200,
   "id": "happy-click",
   "metadata": {},
   "outputs": [
    {
     "data": {
      "text/plain": [
       "checking_status           category\n",
       "duration                   float64\n",
       "credit_history            category\n",
       "purpose                   category\n",
       "credit_amount              float64\n",
       "savings_status            category\n",
       "employment                category\n",
       "installment_commitment     float64\n",
       "personal_status           category\n",
       "other_parties             category\n",
       "residence_since            float64\n",
       "property_magnitude        category\n",
       "age                        float64\n",
       "other_payment_plans       category\n",
       "housing                   category\n",
       "existing_credits           float64\n",
       "job                       category\n",
       "num_dependents             float64\n",
       "own_telephone             category\n",
       "foreign_worker            category\n",
       "dtype: object"
      ]
     },
     "execution_count": 200,
     "metadata": {},
     "output_type": "execute_result"
    }
   ],
   "source": [
    "from sklearn.datasets import fetch_openml \n",
    "\n",
    "X, y = fetch_openml(name='credit-g', as_frame=True, return_X_y=True)\n",
    "X.dtypes"
   ]
  },
  {
   "cell_type": "code",
   "execution_count": 202,
   "id": "adapted-hardwood",
   "metadata": {},
   "outputs": [
    {
     "data": {
      "text/html": [
       "<div>\n",
       "<style scoped>\n",
       "    .dataframe tbody tr th:only-of-type {\n",
       "        vertical-align: middle;\n",
       "    }\n",
       "\n",
       "    .dataframe tbody tr th {\n",
       "        vertical-align: top;\n",
       "    }\n",
       "\n",
       "    .dataframe thead th {\n",
       "        text-align: right;\n",
       "    }\n",
       "</style>\n",
       "<table border=\"1\" class=\"dataframe\">\n",
       "  <thead>\n",
       "    <tr style=\"text-align: right;\">\n",
       "      <th></th>\n",
       "      <th>checking_status</th>\n",
       "      <th>duration</th>\n",
       "      <th>credit_history</th>\n",
       "      <th>purpose</th>\n",
       "      <th>credit_amount</th>\n",
       "      <th>savings_status</th>\n",
       "      <th>employment</th>\n",
       "      <th>installment_commitment</th>\n",
       "      <th>personal_status</th>\n",
       "      <th>other_parties</th>\n",
       "      <th>residence_since</th>\n",
       "      <th>property_magnitude</th>\n",
       "      <th>age</th>\n",
       "      <th>other_payment_plans</th>\n",
       "      <th>housing</th>\n",
       "      <th>existing_credits</th>\n",
       "      <th>job</th>\n",
       "      <th>num_dependents</th>\n",
       "      <th>own_telephone</th>\n",
       "      <th>foreign_worker</th>\n",
       "    </tr>\n",
       "  </thead>\n",
       "  <tbody>\n",
       "    <tr>\n",
       "      <th>0</th>\n",
       "      <td>&lt;0</td>\n",
       "      <td>6.000</td>\n",
       "      <td>critical/other existing credit</td>\n",
       "      <td>radio/tv</td>\n",
       "      <td>1169.000</td>\n",
       "      <td>no known savings</td>\n",
       "      <td>&gt;=7</td>\n",
       "      <td>4.000</td>\n",
       "      <td>male single</td>\n",
       "      <td>none</td>\n",
       "      <td>4.000</td>\n",
       "      <td>real estate</td>\n",
       "      <td>67.000</td>\n",
       "      <td>none</td>\n",
       "      <td>own</td>\n",
       "      <td>2.000</td>\n",
       "      <td>skilled</td>\n",
       "      <td>1.000</td>\n",
       "      <td>yes</td>\n",
       "      <td>yes</td>\n",
       "    </tr>\n",
       "    <tr>\n",
       "      <th>1</th>\n",
       "      <td>0&lt;=X&lt;200</td>\n",
       "      <td>48.000</td>\n",
       "      <td>existing paid</td>\n",
       "      <td>radio/tv</td>\n",
       "      <td>5951.000</td>\n",
       "      <td>&lt;100</td>\n",
       "      <td>1&lt;=X&lt;4</td>\n",
       "      <td>2.000</td>\n",
       "      <td>female div/dep/mar</td>\n",
       "      <td>none</td>\n",
       "      <td>2.000</td>\n",
       "      <td>real estate</td>\n",
       "      <td>22.000</td>\n",
       "      <td>none</td>\n",
       "      <td>own</td>\n",
       "      <td>1.000</td>\n",
       "      <td>skilled</td>\n",
       "      <td>1.000</td>\n",
       "      <td>none</td>\n",
       "      <td>yes</td>\n",
       "    </tr>\n",
       "    <tr>\n",
       "      <th>2</th>\n",
       "      <td>no checking</td>\n",
       "      <td>12.000</td>\n",
       "      <td>critical/other existing credit</td>\n",
       "      <td>education</td>\n",
       "      <td>2096.000</td>\n",
       "      <td>&lt;100</td>\n",
       "      <td>4&lt;=X&lt;7</td>\n",
       "      <td>2.000</td>\n",
       "      <td>male single</td>\n",
       "      <td>none</td>\n",
       "      <td>3.000</td>\n",
       "      <td>real estate</td>\n",
       "      <td>49.000</td>\n",
       "      <td>none</td>\n",
       "      <td>own</td>\n",
       "      <td>1.000</td>\n",
       "      <td>unskilled resident</td>\n",
       "      <td>2.000</td>\n",
       "      <td>none</td>\n",
       "      <td>yes</td>\n",
       "    </tr>\n",
       "    <tr>\n",
       "      <th>3</th>\n",
       "      <td>&lt;0</td>\n",
       "      <td>42.000</td>\n",
       "      <td>existing paid</td>\n",
       "      <td>furniture/equipment</td>\n",
       "      <td>7882.000</td>\n",
       "      <td>&lt;100</td>\n",
       "      <td>4&lt;=X&lt;7</td>\n",
       "      <td>2.000</td>\n",
       "      <td>male single</td>\n",
       "      <td>guarantor</td>\n",
       "      <td>4.000</td>\n",
       "      <td>life insurance</td>\n",
       "      <td>45.000</td>\n",
       "      <td>none</td>\n",
       "      <td>for free</td>\n",
       "      <td>1.000</td>\n",
       "      <td>skilled</td>\n",
       "      <td>2.000</td>\n",
       "      <td>none</td>\n",
       "      <td>yes</td>\n",
       "    </tr>\n",
       "    <tr>\n",
       "      <th>4</th>\n",
       "      <td>&lt;0</td>\n",
       "      <td>24.000</td>\n",
       "      <td>delayed previously</td>\n",
       "      <td>new car</td>\n",
       "      <td>4870.000</td>\n",
       "      <td>&lt;100</td>\n",
       "      <td>1&lt;=X&lt;4</td>\n",
       "      <td>3.000</td>\n",
       "      <td>male single</td>\n",
       "      <td>none</td>\n",
       "      <td>4.000</td>\n",
       "      <td>no known property</td>\n",
       "      <td>53.000</td>\n",
       "      <td>none</td>\n",
       "      <td>for free</td>\n",
       "      <td>2.000</td>\n",
       "      <td>skilled</td>\n",
       "      <td>2.000</td>\n",
       "      <td>none</td>\n",
       "      <td>yes</td>\n",
       "    </tr>\n",
       "  </tbody>\n",
       "</table>\n",
       "</div>"
      ],
      "text/plain": [
       "  checking_status  duration                  credit_history  \\\n",
       "0              <0     6.000  critical/other existing credit   \n",
       "1        0<=X<200    48.000                   existing paid   \n",
       "2     no checking    12.000  critical/other existing credit   \n",
       "3              <0    42.000                   existing paid   \n",
       "4              <0    24.000              delayed previously   \n",
       "\n",
       "               purpose  credit_amount    savings_status employment  \\\n",
       "0             radio/tv       1169.000  no known savings        >=7   \n",
       "1             radio/tv       5951.000              <100     1<=X<4   \n",
       "2            education       2096.000              <100     4<=X<7   \n",
       "3  furniture/equipment       7882.000              <100     4<=X<7   \n",
       "4              new car       4870.000              <100     1<=X<4   \n",
       "\n",
       "   installment_commitment     personal_status other_parties  residence_since  \\\n",
       "0                   4.000         male single          none            4.000   \n",
       "1                   2.000  female div/dep/mar          none            2.000   \n",
       "2                   2.000         male single          none            3.000   \n",
       "3                   2.000         male single     guarantor            4.000   \n",
       "4                   3.000         male single          none            4.000   \n",
       "\n",
       "  property_magnitude    age other_payment_plans   housing  existing_credits  \\\n",
       "0        real estate 67.000                none       own             2.000   \n",
       "1        real estate 22.000                none       own             1.000   \n",
       "2        real estate 49.000                none       own             1.000   \n",
       "3     life insurance 45.000                none  for free             1.000   \n",
       "4  no known property 53.000                none  for free             2.000   \n",
       "\n",
       "                  job  num_dependents own_telephone foreign_worker  \n",
       "0             skilled           1.000           yes            yes  \n",
       "1             skilled           1.000          none            yes  \n",
       "2  unskilled resident           2.000          none            yes  \n",
       "3             skilled           2.000          none            yes  \n",
       "4             skilled           2.000          none            yes  "
      ]
     },
     "execution_count": 202,
     "metadata": {},
     "output_type": "execute_result"
    }
   ],
   "source": [
    "X.head()"
   ]
  },
  {
   "cell_type": "code",
   "execution_count": 203,
   "id": "radical-pitch",
   "metadata": {},
   "outputs": [
    {
     "data": {
      "text/plain": [
       "checking_status           category\n",
       "duration                   float64\n",
       "credit_history            category\n",
       "purpose                   category\n",
       "credit_amount              float64\n",
       "savings_status            category\n",
       "employment                category\n",
       "installment_commitment     float64\n",
       "personal_status           category\n",
       "other_parties             category\n",
       "residence_since            float64\n",
       "property_magnitude        category\n",
       "age                        float64\n",
       "other_payment_plans       category\n",
       "housing                   category\n",
       "existing_credits           float64\n",
       "job                       category\n",
       "num_dependents             float64\n",
       "own_telephone             category\n",
       "foreign_worker            category\n",
       "dtype: object"
      ]
     },
     "execution_count": 203,
     "metadata": {},
     "output_type": "execute_result"
    }
   ],
   "source": [
    "X.dtypes"
   ]
  },
  {
   "cell_type": "code",
   "execution_count": 204,
   "id": "abstract-horror",
   "metadata": {},
   "outputs": [
    {
     "data": {
      "text/plain": [
       "checking_status          0.000\n",
       "duration                 0.000\n",
       "credit_history           0.000\n",
       "purpose                  0.000\n",
       "credit_amount            0.000\n",
       "savings_status           0.000\n",
       "employment               0.000\n",
       "installment_commitment   0.000\n",
       "personal_status          0.000\n",
       "other_parties            0.000\n",
       "residence_since          0.000\n",
       "property_magnitude       0.000\n",
       "age                      0.000\n",
       "other_payment_plans      0.000\n",
       "housing                  0.000\n",
       "existing_credits         0.000\n",
       "job                      0.000\n",
       "num_dependents           0.000\n",
       "own_telephone            0.000\n",
       "foreign_worker           0.000\n",
       "dtype: float64"
      ]
     },
     "execution_count": 204,
     "metadata": {},
     "output_type": "execute_result"
    }
   ],
   "source": [
    "X.isnull().sum() * 100 / len(df)"
   ]
  },
  {
   "cell_type": "code",
   "execution_count": 205,
   "id": "intended-nitrogen",
   "metadata": {},
   "outputs": [],
   "source": [
    "train = X\n",
    "train['target'] = y"
   ]
  },
  {
   "cell_type": "code",
   "execution_count": 206,
   "id": "precise-pavilion",
   "metadata": {},
   "outputs": [
    {
     "data": {
      "text/html": [
       "<div>\n",
       "<style scoped>\n",
       "    .dataframe tbody tr th:only-of-type {\n",
       "        vertical-align: middle;\n",
       "    }\n",
       "\n",
       "    .dataframe tbody tr th {\n",
       "        vertical-align: top;\n",
       "    }\n",
       "\n",
       "    .dataframe thead th {\n",
       "        text-align: right;\n",
       "    }\n",
       "</style>\n",
       "<table border=\"1\" class=\"dataframe\">\n",
       "  <thead>\n",
       "    <tr style=\"text-align: right;\">\n",
       "      <th></th>\n",
       "      <th>checking_status</th>\n",
       "      <th>duration</th>\n",
       "      <th>credit_history</th>\n",
       "      <th>purpose</th>\n",
       "      <th>credit_amount</th>\n",
       "      <th>savings_status</th>\n",
       "      <th>employment</th>\n",
       "      <th>installment_commitment</th>\n",
       "      <th>personal_status</th>\n",
       "      <th>other_parties</th>\n",
       "      <th>residence_since</th>\n",
       "      <th>property_magnitude</th>\n",
       "      <th>age</th>\n",
       "      <th>other_payment_plans</th>\n",
       "      <th>housing</th>\n",
       "      <th>existing_credits</th>\n",
       "      <th>job</th>\n",
       "      <th>num_dependents</th>\n",
       "      <th>own_telephone</th>\n",
       "      <th>foreign_worker</th>\n",
       "      <th>target</th>\n",
       "    </tr>\n",
       "  </thead>\n",
       "  <tbody>\n",
       "    <tr>\n",
       "      <th>0</th>\n",
       "      <td>&lt;0</td>\n",
       "      <td>6.000</td>\n",
       "      <td>critical/other existing credit</td>\n",
       "      <td>radio/tv</td>\n",
       "      <td>1169.000</td>\n",
       "      <td>no known savings</td>\n",
       "      <td>&gt;=7</td>\n",
       "      <td>4.000</td>\n",
       "      <td>male single</td>\n",
       "      <td>none</td>\n",
       "      <td>4.000</td>\n",
       "      <td>real estate</td>\n",
       "      <td>67.000</td>\n",
       "      <td>none</td>\n",
       "      <td>own</td>\n",
       "      <td>2.000</td>\n",
       "      <td>skilled</td>\n",
       "      <td>1.000</td>\n",
       "      <td>yes</td>\n",
       "      <td>yes</td>\n",
       "      <td>good</td>\n",
       "    </tr>\n",
       "    <tr>\n",
       "      <th>1</th>\n",
       "      <td>0&lt;=X&lt;200</td>\n",
       "      <td>48.000</td>\n",
       "      <td>existing paid</td>\n",
       "      <td>radio/tv</td>\n",
       "      <td>5951.000</td>\n",
       "      <td>&lt;100</td>\n",
       "      <td>1&lt;=X&lt;4</td>\n",
       "      <td>2.000</td>\n",
       "      <td>female div/dep/mar</td>\n",
       "      <td>none</td>\n",
       "      <td>2.000</td>\n",
       "      <td>real estate</td>\n",
       "      <td>22.000</td>\n",
       "      <td>none</td>\n",
       "      <td>own</td>\n",
       "      <td>1.000</td>\n",
       "      <td>skilled</td>\n",
       "      <td>1.000</td>\n",
       "      <td>none</td>\n",
       "      <td>yes</td>\n",
       "      <td>bad</td>\n",
       "    </tr>\n",
       "    <tr>\n",
       "      <th>2</th>\n",
       "      <td>no checking</td>\n",
       "      <td>12.000</td>\n",
       "      <td>critical/other existing credit</td>\n",
       "      <td>education</td>\n",
       "      <td>2096.000</td>\n",
       "      <td>&lt;100</td>\n",
       "      <td>4&lt;=X&lt;7</td>\n",
       "      <td>2.000</td>\n",
       "      <td>male single</td>\n",
       "      <td>none</td>\n",
       "      <td>3.000</td>\n",
       "      <td>real estate</td>\n",
       "      <td>49.000</td>\n",
       "      <td>none</td>\n",
       "      <td>own</td>\n",
       "      <td>1.000</td>\n",
       "      <td>unskilled resident</td>\n",
       "      <td>2.000</td>\n",
       "      <td>none</td>\n",
       "      <td>yes</td>\n",
       "      <td>good</td>\n",
       "    </tr>\n",
       "    <tr>\n",
       "      <th>3</th>\n",
       "      <td>&lt;0</td>\n",
       "      <td>42.000</td>\n",
       "      <td>existing paid</td>\n",
       "      <td>furniture/equipment</td>\n",
       "      <td>7882.000</td>\n",
       "      <td>&lt;100</td>\n",
       "      <td>4&lt;=X&lt;7</td>\n",
       "      <td>2.000</td>\n",
       "      <td>male single</td>\n",
       "      <td>guarantor</td>\n",
       "      <td>4.000</td>\n",
       "      <td>life insurance</td>\n",
       "      <td>45.000</td>\n",
       "      <td>none</td>\n",
       "      <td>for free</td>\n",
       "      <td>1.000</td>\n",
       "      <td>skilled</td>\n",
       "      <td>2.000</td>\n",
       "      <td>none</td>\n",
       "      <td>yes</td>\n",
       "      <td>good</td>\n",
       "    </tr>\n",
       "    <tr>\n",
       "      <th>4</th>\n",
       "      <td>&lt;0</td>\n",
       "      <td>24.000</td>\n",
       "      <td>delayed previously</td>\n",
       "      <td>new car</td>\n",
       "      <td>4870.000</td>\n",
       "      <td>&lt;100</td>\n",
       "      <td>1&lt;=X&lt;4</td>\n",
       "      <td>3.000</td>\n",
       "      <td>male single</td>\n",
       "      <td>none</td>\n",
       "      <td>4.000</td>\n",
       "      <td>no known property</td>\n",
       "      <td>53.000</td>\n",
       "      <td>none</td>\n",
       "      <td>for free</td>\n",
       "      <td>2.000</td>\n",
       "      <td>skilled</td>\n",
       "      <td>2.000</td>\n",
       "      <td>none</td>\n",
       "      <td>yes</td>\n",
       "      <td>bad</td>\n",
       "    </tr>\n",
       "  </tbody>\n",
       "</table>\n",
       "</div>"
      ],
      "text/plain": [
       "  checking_status  duration                  credit_history  \\\n",
       "0              <0     6.000  critical/other existing credit   \n",
       "1        0<=X<200    48.000                   existing paid   \n",
       "2     no checking    12.000  critical/other existing credit   \n",
       "3              <0    42.000                   existing paid   \n",
       "4              <0    24.000              delayed previously   \n",
       "\n",
       "               purpose  credit_amount    savings_status employment  \\\n",
       "0             radio/tv       1169.000  no known savings        >=7   \n",
       "1             radio/tv       5951.000              <100     1<=X<4   \n",
       "2            education       2096.000              <100     4<=X<7   \n",
       "3  furniture/equipment       7882.000              <100     4<=X<7   \n",
       "4              new car       4870.000              <100     1<=X<4   \n",
       "\n",
       "   installment_commitment     personal_status other_parties  residence_since  \\\n",
       "0                   4.000         male single          none            4.000   \n",
       "1                   2.000  female div/dep/mar          none            2.000   \n",
       "2                   2.000         male single          none            3.000   \n",
       "3                   2.000         male single     guarantor            4.000   \n",
       "4                   3.000         male single          none            4.000   \n",
       "\n",
       "  property_magnitude    age other_payment_plans   housing  existing_credits  \\\n",
       "0        real estate 67.000                none       own             2.000   \n",
       "1        real estate 22.000                none       own             1.000   \n",
       "2        real estate 49.000                none       own             1.000   \n",
       "3     life insurance 45.000                none  for free             1.000   \n",
       "4  no known property 53.000                none  for free             2.000   \n",
       "\n",
       "                  job  num_dependents own_telephone foreign_worker target  \n",
       "0             skilled           1.000           yes            yes   good  \n",
       "1             skilled           1.000          none            yes    bad  \n",
       "2  unskilled resident           2.000          none            yes   good  \n",
       "3             skilled           2.000          none            yes   good  \n",
       "4             skilled           2.000          none            yes    bad  "
      ]
     },
     "execution_count": 206,
     "metadata": {},
     "output_type": "execute_result"
    }
   ],
   "source": [
    "train.head()"
   ]
  },
  {
   "cell_type": "code",
   "execution_count": 207,
   "id": "monthly-respect",
   "metadata": {},
   "outputs": [],
   "source": [
    "X = train.drop('target', axis=1)\n",
    "y = train['target']\n",
    "from sklearn.model_selection import train_test_split\n",
    "X_train, X_test, y_train, y_test = train_test_split(X, y, test_size=0.2)"
   ]
  },
  {
   "cell_type": "code",
   "execution_count": 208,
   "id": "contrary-european",
   "metadata": {},
   "outputs": [
    {
     "data": {
      "text/plain": [
       "checking_status           category\n",
       "duration                   float64\n",
       "credit_history            category\n",
       "purpose                   category\n",
       "credit_amount              float64\n",
       "savings_status            category\n",
       "employment                category\n",
       "installment_commitment     float64\n",
       "personal_status           category\n",
       "other_parties             category\n",
       "residence_since            float64\n",
       "property_magnitude        category\n",
       "age                        float64\n",
       "other_payment_plans       category\n",
       "housing                   category\n",
       "existing_credits           float64\n",
       "job                       category\n",
       "num_dependents             float64\n",
       "own_telephone             category\n",
       "foreign_worker            category\n",
       "target                    category\n",
       "dtype: object"
      ]
     },
     "execution_count": 208,
     "metadata": {},
     "output_type": "execute_result"
    }
   ],
   "source": [
    "train.dtypes"
   ]
  },
  {
   "cell_type": "code",
   "execution_count": 209,
   "id": "uniform-relation",
   "metadata": {},
   "outputs": [],
   "source": [
    "numeric_features = [1,4,7,10,12,15,17]\n",
    "categorical_features = [0,2,3,6,8,9,11,13,14,16,18,19]"
   ]
  },
  {
   "cell_type": "code",
   "execution_count": null,
   "id": "stopped-pickup",
   "metadata": {},
   "outputs": [],
   "source": []
  },
  {
   "cell_type": "code",
   "execution_count": 210,
   "id": "ruled-segment",
   "metadata": {},
   "outputs": [],
   "source": [
    "from sklearn.pipeline import Pipeline\n",
    "from sklearn.impute import SimpleImputer\n",
    "from sklearn.ensemble import RandomForestClassifier\n",
    "from sklearn.preprocessing import StandardScaler, OneHotEncoder\n",
    "\n",
    "\n",
    "numeric_transformer = Pipeline(steps=[\n",
    "    ('imputer', SimpleImputer(strategy='median')),\n",
    "    ('scaler', StandardScaler())])\n",
    "categorical_transformer = Pipeline(steps=[\n",
    "    ('imputer', SimpleImputer(strategy='constant', fill_value='most_frequent')),\n",
    "    ('onehot', OneHotEncoder(handle_unknown='ignore'))])\n",
    "\n",
    "from sklearn.compose import ColumnTransformer\n",
    "preprocessor = ColumnTransformer(\n",
    "    transformers=[\n",
    "        ('num', numeric_transformer, numeric_features),\n",
    "        ('cat', categorical_transformer, categorical_features)])"
   ]
  },
  {
   "cell_type": "code",
   "execution_count": 211,
   "id": "chubby-myanmar",
   "metadata": {},
   "outputs": [],
   "source": [
    "rf = Pipeline(steps=[('preprocessor', preprocessor),\n",
    "                      ('classifier', RandomForestClassifier())])"
   ]
  },
  {
   "cell_type": "code",
   "execution_count": 212,
   "id": "bound-serve",
   "metadata": {},
   "outputs": [
    {
     "data": {
      "text/plain": [
       "Pipeline(steps=[('preprocessor',\n",
       "                 ColumnTransformer(transformers=[('num',\n",
       "                                                  Pipeline(steps=[('imputer',\n",
       "                                                                   SimpleImputer(strategy='median')),\n",
       "                                                                  ('scaler',\n",
       "                                                                   StandardScaler())]),\n",
       "                                                  [1, 4, 7, 10, 12, 15, 17]),\n",
       "                                                 ('cat',\n",
       "                                                  Pipeline(steps=[('imputer',\n",
       "                                                                   SimpleImputer(fill_value='most_frequent',\n",
       "                                                                                 strategy='constant')),\n",
       "                                                                  ('onehot',\n",
       "                                                                   OneHotEncoder(handle_unknown='ignore'))]),\n",
       "                                                  [0, 2, 3, 6, 8, 9, 11, 13, 14,\n",
       "                                                   16, 18, 19])])),\n",
       "                ('classifier', RandomForestClassifier())])"
      ]
     },
     "execution_count": 212,
     "metadata": {},
     "output_type": "execute_result"
    }
   ],
   "source": [
    "rf.fit(X_train, y_train)"
   ]
  },
  {
   "cell_type": "code",
   "execution_count": 214,
   "id": "strong-incidence",
   "metadata": {},
   "outputs": [
    {
     "name": "stdout",
     "output_type": "stream",
     "text": [
      "              precision    recall  f1-score   support\n",
      "\n",
      "         bad       0.61      0.39      0.47        59\n",
      "        good       0.78      0.89      0.83       141\n",
      "\n",
      "    accuracy                           0.74       200\n",
      "   macro avg       0.69      0.64      0.65       200\n",
      "weighted avg       0.73      0.74      0.73       200\n",
      "\n"
     ]
    }
   ],
   "source": [
    "from sklearn.metrics import classification_report\n",
    "\n",
    "y_pred = rf.predict(X_test)\n",
    "print(classification_report(y_test, y_pred))"
   ]
  },
  {
   "cell_type": "code",
   "execution_count": 223,
   "id": "chemical-certificate",
   "metadata": {},
   "outputs": [],
   "source": [
    "sample = X_test[:1].to_numpy()"
   ]
  },
  {
   "cell_type": "code",
   "execution_count": 226,
   "id": "atlantic-vanilla",
   "metadata": {},
   "outputs": [
    {
     "data": {
      "text/plain": [
       "array(['good'], dtype=object)"
      ]
     },
     "execution_count": 226,
     "metadata": {},
     "output_type": "execute_result"
    }
   ],
   "source": [
    "sample_true = y_test[:1].to_numpy()\n",
    "sample_true"
   ]
  },
  {
   "cell_type": "code",
   "execution_count": 224,
   "id": "rural-preservation",
   "metadata": {},
   "outputs": [
    {
     "data": {
      "text/plain": [
       "array([['<0', 6.0, 'existing paid', 'used car', 1352.0, '500<=X<1000',\n",
       "        'unemployed', 1.0, 'female div/dep/mar', 'none', 2.0,\n",
       "        'life insurance', 23.0, 'none', 'rent', 1.0,\n",
       "        'unemp/unskilled non res', 1.0, 'yes', 'yes']], dtype=object)"
      ]
     },
     "execution_count": 224,
     "metadata": {},
     "output_type": "execute_result"
    }
   ],
   "source": [
    "sample"
   ]
  },
  {
   "cell_type": "code",
   "execution_count": 222,
   "id": "becoming-hardware",
   "metadata": {},
   "outputs": [
    {
     "data": {
      "text/plain": [
       "'\"[[\\'<0\\' 6.0 \\'existing paid\\' \\'used car\\' 1352.0 \\'500<=X<1000\\' \\'unemployed\\'\\\\n  1.0 \\'female div/dep/mar\\' \\'none\\' 2.0 \\'life insurance\\' 23.0 \\'none\\' \\'rent\\'\\\\n  1.0 \\'unemp/unskilled non res\\' 1.0 \\'yes\\' \\'yes\\']]\"'"
      ]
     },
     "execution_count": 222,
     "metadata": {},
     "output_type": "execute_result"
    }
   ],
   "source": [
    "import json\n",
    "\n",
    "j_data = json.dumps(np.array2string(sample))\n",
    "j_data"
   ]
  },
  {
   "cell_type": "code",
   "execution_count": 216,
   "id": "invisible-relative",
   "metadata": {},
   "outputs": [
    {
     "name": "stdout",
     "output_type": "stream",
     "text": [
      "['good']\n"
     ]
    }
   ],
   "source": [
    "print(rf.predict(sample))"
   ]
  },
  {
   "cell_type": "code",
   "execution_count": 217,
   "id": "psychological-interaction",
   "metadata": {},
   "outputs": [],
   "source": [
    "import pickle\n",
    "pickle.dump(rf, open('final_prediction.pickle', 'wb'))"
   ]
  },
  {
   "cell_type": "code",
   "execution_count": 108,
   "id": "distributed-rebound",
   "metadata": {},
   "outputs": [
    {
     "data": {
      "text/plain": [
       "<AxesSubplot:ylabel='Frequency'>"
      ]
     },
     "execution_count": 108,
     "metadata": {},
     "output_type": "execute_result"
    },
    {
     "data": {
      "image/png": "[encoded data removed]",
      "text/plain": [
       "<Figure size 432x288 with 1 Axes>"
      ]
     },
     "metadata": {
      "needs_background": "light"
     },
     "output_type": "display_data"
    }
   ],
   "source": [
    "train['TARGET'].plot.hist()"
   ]
  },
  {
   "cell_type": "code",
   "execution_count": 11,
   "id": "random-status",
   "metadata": {},
   "outputs": [
    {
     "data": {
      "text/plain": [
       "personal_status\n",
       "male div/sep          31.0\n",
       "female div/dep/mar    24.0\n",
       "male single           30.0\n",
       "male mar/wid          25.0\n",
       "female single          NaN\n",
       "Name: age, dtype: float64"
      ]
     },
     "execution_count": 11,
     "metadata": {},
     "output_type": "execute_result"
    }
   ],
   "source": [
    "grouped = X.groupby('personal_status')\n",
    "\n",
    "grouped['age'].quantile(0.25)"
   ]
  },
  {
   "cell_type": "code",
   "execution_count": 12,
   "id": "practical-arena",
   "metadata": {},
   "outputs": [
    {
     "data": {
      "text/html": [
       "<div>\n",
       "<style scoped>\n",
       "    .dataframe tbody tr th:only-of-type {\n",
       "        vertical-align: middle;\n",
       "    }\n",
       "\n",
       "    .dataframe tbody tr th {\n",
       "        vertical-align: top;\n",
       "    }\n",
       "\n",
       "    .dataframe thead th {\n",
       "        text-align: right;\n",
       "    }\n",
       "</style>\n",
       "<table border=\"1\" class=\"dataframe\">\n",
       "  <thead>\n",
       "    <tr style=\"text-align: right;\">\n",
       "      <th></th>\n",
       "      <th>count</th>\n",
       "      <th>mean</th>\n",
       "      <th>std</th>\n",
       "      <th>min</th>\n",
       "      <th>25%</th>\n",
       "      <th>50%</th>\n",
       "      <th>75%</th>\n",
       "      <th>max</th>\n",
       "    </tr>\n",
       "    <tr>\n",
       "      <th>personal_status</th>\n",
       "      <th></th>\n",
       "      <th></th>\n",
       "      <th></th>\n",
       "      <th></th>\n",
       "      <th></th>\n",
       "      <th></th>\n",
       "      <th></th>\n",
       "      <th></th>\n",
       "    </tr>\n",
       "  </thead>\n",
       "  <tbody>\n",
       "    <tr>\n",
       "      <th>male div/sep</th>\n",
       "      <td>50.0</td>\n",
       "      <td>38.640000</td>\n",
       "      <td>10.223542</td>\n",
       "      <td>24.0</td>\n",
       "      <td>31.0</td>\n",
       "      <td>36.0</td>\n",
       "      <td>45.75</td>\n",
       "      <td>62.0</td>\n",
       "    </tr>\n",
       "    <tr>\n",
       "      <th>female div/dep/mar</th>\n",
       "      <td>310.0</td>\n",
       "      <td>32.803226</td>\n",
       "      <td>11.754363</td>\n",
       "      <td>19.0</td>\n",
       "      <td>24.0</td>\n",
       "      <td>29.0</td>\n",
       "      <td>37.00</td>\n",
       "      <td>75.0</td>\n",
       "    </tr>\n",
       "    <tr>\n",
       "      <th>male single</th>\n",
       "      <td>548.0</td>\n",
       "      <td>37.687956</td>\n",
       "      <td>11.089271</td>\n",
       "      <td>20.0</td>\n",
       "      <td>30.0</td>\n",
       "      <td>36.0</td>\n",
       "      <td>44.00</td>\n",
       "      <td>75.0</td>\n",
       "    </tr>\n",
       "    <tr>\n",
       "      <th>male mar/wid</th>\n",
       "      <td>92.0</td>\n",
       "      <td>30.347826</td>\n",
       "      <td>8.373735</td>\n",
       "      <td>20.0</td>\n",
       "      <td>25.0</td>\n",
       "      <td>28.0</td>\n",
       "      <td>33.25</td>\n",
       "      <td>61.0</td>\n",
       "    </tr>\n",
       "    <tr>\n",
       "      <th>female single</th>\n",
       "      <td>0.0</td>\n",
       "      <td>NaN</td>\n",
       "      <td>NaN</td>\n",
       "      <td>NaN</td>\n",
       "      <td>NaN</td>\n",
       "      <td>NaN</td>\n",
       "      <td>NaN</td>\n",
       "      <td>NaN</td>\n",
       "    </tr>\n",
       "  </tbody>\n",
       "</table>\n",
       "</div>"
      ],
      "text/plain": [
       "                    count       mean        std   min   25%   50%    75%   max\n",
       "personal_status                                                               \n",
       "male div/sep         50.0  38.640000  10.223542  24.0  31.0  36.0  45.75  62.0\n",
       "female div/dep/mar  310.0  32.803226  11.754363  19.0  24.0  29.0  37.00  75.0\n",
       "male single         548.0  37.687956  11.089271  20.0  30.0  36.0  44.00  75.0\n",
       "male mar/wid         92.0  30.347826   8.373735  20.0  25.0  28.0  33.25  61.0\n",
       "female single         0.0        NaN        NaN   NaN   NaN   NaN    NaN   NaN"
      ]
     },
     "execution_count": 12,
     "metadata": {},
     "output_type": "execute_result"
    }
   ],
   "source": [
    "grouped['age'].describe()"
   ]
  },
  {
   "cell_type": "code",
   "execution_count": null,
   "id": "ambient-chicago",
   "metadata": {},
   "outputs": [],
   "source": []
  }
 ],
 "metadata": {
  "kernelspec": {
   "display_name": "Python 3.5.7",
   "language": "python",
   "name": "organges"
  },
  "language_info": {
   "codemirror_mode": {
    "name": "ipython",
    "version": 3
   },
   "file_extension": ".py",
   "mimetype": "text/x-python",
   "name": "python",
   "nbconvert_exporter": "python",
   "pygments_lexer": "ipython3",
   "version": "3.7.5"
  }
 },
 "nbformat": 4,
 "nbformat_minor": 5
}
